{
 "cells": [
  {
   "cell_type": "markdown",
   "metadata": {},
   "source": [
    "# AirBnB Dataset\n",
    "\n",
    "table schemata [here](https://docs.google.com/document/d/1ezVFDe506zK1CuuNhNmzHEj_iNnL67hDrFzSap9V7S0/edit?usp=sharing) for the data"
   ]
  },
  {
   "cell_type": "code",
   "execution_count": 1,
   "metadata": {},
   "outputs": [
    {
     "name": "stdout",
     "output_type": "stream",
     "text": [
      "Starting download ...\n",
      "Unpacking archive ...\n",
      "Done!\n"
     ]
    }
   ],
   "source": [
    "import urllib.request\n",
    "import zipfile\n",
    "import os\n",
    "\n",
    "print(\"Starting download ...\")\n",
    "url = \"https://github.com/aihack20/airbnb_challenge/releases/download/data/data-airbnb.zip\"\n",
    "with urllib.request.urlopen(url) as src:\n",
    "    with open(\"tmp_airbnb_data.zip\", \"wb\") as dest:\n",
    "        dest.write(src.read())\n",
    "print(\"Unpacking archive ...\")\n",
    "os.makedirs(\"airbnb_data\", exist_ok=True)\n",
    "with zipfile.ZipFile(\"tmp_airbnb_data.zip\", compression=zipfile.ZIP_DEFLATED) as zip_f:\n",
    "    zip_f.extractall(\"airbnb_data\")\n",
    "print(\"Done!\")"
   ]
  },
  {
   "cell_type": "code",
   "execution_count": 1,
   "metadata": {},
   "outputs": [],
   "source": [
    "import pandas as pd\n",
    "from pandas.api.types import is_string_dtype, is_numeric_dtype\n",
    "from matplotlib import pyplot as plt\n",
    "import numpy as np\n",
    "import re\n",
    "import random\n",
    "import sklearn\n",
    "from sklearn_pandas import DataFrameMapper\n",
    "from sklearn.preprocessing import LabelEncoder, StandardScaler\n",
    "from sklearn.decomposition import PCA\n",
    "from sklearn.model_selection import train_test_split"
   ]
  },
  {
   "cell_type": "code",
   "execution_count": 2,
   "metadata": {},
   "outputs": [],
   "source": [
    "from torch import nn, optim, as_tensor\n",
    "from torch.utils.data import Dataset, DataLoader\n",
    "import torch.nn.functional as F\n",
    "from torch.nn.init import *"
   ]
  },
  {
   "cell_type": "code",
   "execution_count": 76,
   "metadata": {},
   "outputs": [],
   "source": [
    "# Load the data (will take a short while)\n",
    "calendar = pd.read_csv(\"airbnb_data/calendar.csv\")\n",
    "demographics = pd.read_csv(\"airbnb_data/demographics.csv\")\n",
    "econ_state = pd.read_csv(\"airbnb_data/econ_state.csv\")\n",
    "listings = pd.read_csv(\"airbnb_data/listings.csv\")\n",
    "real_estate = pd.read_csv(\"airbnb_data/real_estate.csv\")\n",
    "venues = pd.read_csv(\"airbnb_data/venues.csv\")"
   ]
  },
  {
   "cell_type": "markdown",
   "metadata": {},
   "source": [
    "## Data Cleaning"
   ]
  },
  {
   "cell_type": "markdown",
   "metadata": {},
   "source": [
    "### Features with missing data deleted"
   ]
  },
  {
   "cell_type": "code",
   "execution_count": 77,
   "metadata": {},
   "outputs": [],
   "source": [
    "percent_missing = listings.isnull().sum() * 100 / len(listings)\n",
    "missing_listings_df = pd.DataFrame({'column_name': listings.columns,\n",
    "                                 'percent_missing': percent_missing})"
   ]
  },
  {
   "cell_type": "code",
   "execution_count": 78,
   "metadata": {},
   "outputs": [
    {
     "data": {
      "text/plain": [
       "Text(0, 0.5, 'Percentage missing values')"
      ]
     },
     "execution_count": 78,
     "metadata": {},
     "output_type": "execute_result"
    },
    {
     "data": {
      "image/png": "[encoded data removed]",
      "text/plain": [
       "<Figure size 432x288 with 1 Axes>"
      ]
     },
     "metadata": {
      "needs_background": "light"
     },
     "output_type": "display_data"
    }
   ],
   "source": [
    "missing_listings_df.sort_values('percent_missing', inplace=True)\n",
    "plt.plot(missing_listings_df['percent_missing'])\n",
    "plt.ylabel('Percentage missing values')\n",
    "# seems natural to drop those at the cutoff for around 20% missing data"
   ]
  },
  {
   "cell_type": "code",
   "execution_count": 79,
   "metadata": {},
   "outputs": [
    {
     "data": {
      "text/html": [
       "<div>\n",
       "<style scoped>\n",
       "    .dataframe tbody tr th:only-of-type {\n",
       "        vertical-align: middle;\n",
       "    }\n",
       "\n",
       "    .dataframe tbody tr th {\n",
       "        vertical-align: top;\n",
       "    }\n",
       "\n",
       "    .dataframe thead th {\n",
       "        text-align: right;\n",
       "    }\n",
       "</style>\n",
       "<table border=\"1\" class=\"dataframe\">\n",
       "  <thead>\n",
       "    <tr style=\"text-align: right;\">\n",
       "      <th></th>\n",
       "      <th>accommodates</th>\n",
       "      <th>amenities</th>\n",
       "      <th>availability_30</th>\n",
       "      <th>bathrooms</th>\n",
       "      <th>bed_type</th>\n",
       "      <th>bedrooms</th>\n",
       "      <th>beds</th>\n",
       "      <th>cancellation_policy</th>\n",
       "      <th>city</th>\n",
       "      <th>instant_bookable</th>\n",
       "      <th>metropolitan</th>\n",
       "      <th>price</th>\n",
       "      <th>property_type</th>\n",
       "      <th>room_type</th>\n",
       "      <th>state</th>\n",
       "      <th>zipcode</th>\n",
       "    </tr>\n",
       "  </thead>\n",
       "  <tbody>\n",
       "    <tr>\n",
       "      <th>0</th>\n",
       "      <td>2.0</td>\n",
       "      <td>{\"Cable TV\",\"Wireless Internet\",\"Air condition...</td>\n",
       "      <td>24</td>\n",
       "      <td>1.0</td>\n",
       "      <td>Real Bed</td>\n",
       "      <td>1.0</td>\n",
       "      <td>1.0</td>\n",
       "      <td>moderate</td>\n",
       "      <td>sunnysidebronx</td>\n",
       "      <td>f</td>\n",
       "      <td>NYC</td>\n",
       "      <td>99.0</td>\n",
       "      <td>House</td>\n",
       "      <td>Private room</td>\n",
       "      <td>NY</td>\n",
       "      <td>10464</td>\n",
       "    </tr>\n",
       "    <tr>\n",
       "      <th>1</th>\n",
       "      <td>4.0</td>\n",
       "      <td>{TV,Internet,\"Wireless Internet\",\"Air conditio...</td>\n",
       "      <td>30</td>\n",
       "      <td>1.0</td>\n",
       "      <td>Real Bed</td>\n",
       "      <td>1.0</td>\n",
       "      <td>1.0</td>\n",
       "      <td>flexible</td>\n",
       "      <td>sunnysidebronx</td>\n",
       "      <td>t</td>\n",
       "      <td>NYC</td>\n",
       "      <td>200.0</td>\n",
       "      <td>Apartment</td>\n",
       "      <td>Private room</td>\n",
       "      <td>NY</td>\n",
       "      <td>10464</td>\n",
       "    </tr>\n",
       "    <tr>\n",
       "      <th>2</th>\n",
       "      <td>4.0</td>\n",
       "      <td>{TV,\"Cable TV\",Internet,\"Wireless Internet\",\"A...</td>\n",
       "      <td>30</td>\n",
       "      <td>3.0</td>\n",
       "      <td>Real Bed</td>\n",
       "      <td>3.0</td>\n",
       "      <td>3.0</td>\n",
       "      <td>strict</td>\n",
       "      <td>sunnysidebronx</td>\n",
       "      <td>f</td>\n",
       "      <td>NYC</td>\n",
       "      <td>300.0</td>\n",
       "      <td>House</td>\n",
       "      <td>Entire home/apt</td>\n",
       "      <td>NY</td>\n",
       "      <td>10464</td>\n",
       "    </tr>\n",
       "    <tr>\n",
       "      <th>3</th>\n",
       "      <td>3.0</td>\n",
       "      <td>{TV,Internet,\"Wireless Internet\",\"Air conditio...</td>\n",
       "      <td>8</td>\n",
       "      <td>1.0</td>\n",
       "      <td>Real Bed</td>\n",
       "      <td>1.0</td>\n",
       "      <td>1.0</td>\n",
       "      <td>strict</td>\n",
       "      <td>long island city</td>\n",
       "      <td>f</td>\n",
       "      <td>NYC</td>\n",
       "      <td>125.0</td>\n",
       "      <td>Apartment</td>\n",
       "      <td>Entire home/apt</td>\n",
       "      <td>NY</td>\n",
       "      <td>10464</td>\n",
       "    </tr>\n",
       "  </tbody>\n",
       "</table>\n",
       "</div>"
      ],
      "text/plain": [
       "   accommodates                                          amenities  \\\n",
       "0           2.0  {\"Cable TV\",\"Wireless Internet\",\"Air condition...   \n",
       "1           4.0  {TV,Internet,\"Wireless Internet\",\"Air conditio...   \n",
       "2           4.0  {TV,\"Cable TV\",Internet,\"Wireless Internet\",\"A...   \n",
       "3           3.0  {TV,Internet,\"Wireless Internet\",\"Air conditio...   \n",
       "\n",
       "   availability_30  bathrooms  bed_type  bedrooms  beds cancellation_policy  \\\n",
       "0               24        1.0  Real Bed       1.0   1.0            moderate   \n",
       "1               30        1.0  Real Bed       1.0   1.0            flexible   \n",
       "2               30        3.0  Real Bed       3.0   3.0              strict   \n",
       "3                8        1.0  Real Bed       1.0   1.0              strict   \n",
       "\n",
       "               city instant_bookable metropolitan  price property_type  \\\n",
       "0    sunnysidebronx                f          NYC   99.0         House   \n",
       "1    sunnysidebronx                t          NYC  200.0     Apartment   \n",
       "2    sunnysidebronx                f          NYC  300.0         House   \n",
       "3  long island city                f          NYC  125.0     Apartment   \n",
       "\n",
       "         room_type state zipcode  \n",
       "0     Private room    NY   10464  \n",
       "1     Private room    NY   10464  \n",
       "2  Entire home/apt    NY   10464  \n",
       "3  Entire home/apt    NY   10464  "
      ]
     },
     "execution_count": 79,
     "metadata": {},
     "output_type": "execute_result"
    }
   ],
   "source": [
    "cols_to_drop = ['has_availability', 'weekly_price', 'review_scores_value', 'review_scores_location', 'review_scores_checkin', 'review_scores_communication', 'review_scores_cleanliness', 'review_scores_rating', 'host_id', 'id', 'name', 'longitude', 'latitude']\n",
    "listings_drop = listings.drop(columns=cols_to_drop)\n",
    "listings_drop.head(4)"
   ]
  },
  {
   "cell_type": "markdown",
   "metadata": {},
   "source": [
    "### drop datapoints with nan"
   ]
  },
  {
   "cell_type": "code",
   "execution_count": 80,
   "metadata": {},
   "outputs": [
    {
     "data": {
      "text/html": [
       "<div>\n",
       "<style scoped>\n",
       "    .dataframe tbody tr th:only-of-type {\n",
       "        vertical-align: middle;\n",
       "    }\n",
       "\n",
       "    .dataframe tbody tr th {\n",
       "        vertical-align: top;\n",
       "    }\n",
       "\n",
       "    .dataframe thead th {\n",
       "        text-align: right;\n",
       "    }\n",
       "</style>\n",
       "<table border=\"1\" class=\"dataframe\">\n",
       "  <thead>\n",
       "    <tr style=\"text-align: right;\">\n",
       "      <th></th>\n",
       "      <th>accommodates</th>\n",
       "      <th>amenities</th>\n",
       "      <th>availability_30</th>\n",
       "      <th>bathrooms</th>\n",
       "      <th>bed_type</th>\n",
       "      <th>bedrooms</th>\n",
       "      <th>beds</th>\n",
       "      <th>cancellation_policy</th>\n",
       "      <th>city</th>\n",
       "      <th>instant_bookable</th>\n",
       "      <th>metropolitan</th>\n",
       "      <th>price</th>\n",
       "      <th>property_type</th>\n",
       "      <th>room_type</th>\n",
       "      <th>state</th>\n",
       "      <th>zipcode</th>\n",
       "    </tr>\n",
       "  </thead>\n",
       "  <tbody>\n",
       "    <tr>\n",
       "      <th>0</th>\n",
       "      <td>2.0</td>\n",
       "      <td>{\"Cable TV\",\"Wireless Internet\",\"Air condition...</td>\n",
       "      <td>24</td>\n",
       "      <td>1.0</td>\n",
       "      <td>Real Bed</td>\n",
       "      <td>1.0</td>\n",
       "      <td>1.0</td>\n",
       "      <td>moderate</td>\n",
       "      <td>sunnysidebronx</td>\n",
       "      <td>f</td>\n",
       "      <td>NYC</td>\n",
       "      <td>99.0</td>\n",
       "      <td>House</td>\n",
       "      <td>Private room</td>\n",
       "      <td>NY</td>\n",
       "      <td>10464</td>\n",
       "    </tr>\n",
       "    <tr>\n",
       "      <th>1</th>\n",
       "      <td>4.0</td>\n",
       "      <td>{TV,Internet,\"Wireless Internet\",\"Air conditio...</td>\n",
       "      <td>30</td>\n",
       "      <td>1.0</td>\n",
       "      <td>Real Bed</td>\n",
       "      <td>1.0</td>\n",
       "      <td>1.0</td>\n",
       "      <td>flexible</td>\n",
       "      <td>sunnysidebronx</td>\n",
       "      <td>t</td>\n",
       "      <td>NYC</td>\n",
       "      <td>200.0</td>\n",
       "      <td>Apartment</td>\n",
       "      <td>Private room</td>\n",
       "      <td>NY</td>\n",
       "      <td>10464</td>\n",
       "    </tr>\n",
       "    <tr>\n",
       "      <th>2</th>\n",
       "      <td>4.0</td>\n",
       "      <td>{TV,\"Cable TV\",Internet,\"Wireless Internet\",\"A...</td>\n",
       "      <td>30</td>\n",
       "      <td>3.0</td>\n",
       "      <td>Real Bed</td>\n",
       "      <td>3.0</td>\n",
       "      <td>3.0</td>\n",
       "      <td>strict</td>\n",
       "      <td>sunnysidebronx</td>\n",
       "      <td>f</td>\n",
       "      <td>NYC</td>\n",
       "      <td>300.0</td>\n",
       "      <td>House</td>\n",
       "      <td>Entire home/apt</td>\n",
       "      <td>NY</td>\n",
       "      <td>10464</td>\n",
       "    </tr>\n",
       "    <tr>\n",
       "      <th>3</th>\n",
       "      <td>3.0</td>\n",
       "      <td>{TV,Internet,\"Wireless Internet\",\"Air conditio...</td>\n",
       "      <td>8</td>\n",
       "      <td>1.0</td>\n",
       "      <td>Real Bed</td>\n",
       "      <td>1.0</td>\n",
       "      <td>1.0</td>\n",
       "      <td>strict</td>\n",
       "      <td>long island city</td>\n",
       "      <td>f</td>\n",
       "      <td>NYC</td>\n",
       "      <td>125.0</td>\n",
       "      <td>Apartment</td>\n",
       "      <td>Entire home/apt</td>\n",
       "      <td>NY</td>\n",
       "      <td>10464</td>\n",
       "    </tr>\n",
       "  </tbody>\n",
       "</table>\n",
       "</div>"
      ],
      "text/plain": [
       "   accommodates                                          amenities  \\\n",
       "0           2.0  {\"Cable TV\",\"Wireless Internet\",\"Air condition...   \n",
       "1           4.0  {TV,Internet,\"Wireless Internet\",\"Air conditio...   \n",
       "2           4.0  {TV,\"Cable TV\",Internet,\"Wireless Internet\",\"A...   \n",
       "3           3.0  {TV,Internet,\"Wireless Internet\",\"Air conditio...   \n",
       "\n",
       "   availability_30  bathrooms  bed_type  bedrooms  beds cancellation_policy  \\\n",
       "0               24        1.0  Real Bed       1.0   1.0            moderate   \n",
       "1               30        1.0  Real Bed       1.0   1.0            flexible   \n",
       "2               30        3.0  Real Bed       3.0   3.0              strict   \n",
       "3                8        1.0  Real Bed       1.0   1.0              strict   \n",
       "\n",
       "               city instant_bookable metropolitan  price property_type  \\\n",
       "0    sunnysidebronx                f          NYC   99.0         House   \n",
       "1    sunnysidebronx                t          NYC  200.0     Apartment   \n",
       "2    sunnysidebronx                f          NYC  300.0         House   \n",
       "3  long island city                f          NYC  125.0     Apartment   \n",
       "\n",
       "         room_type state zipcode  \n",
       "0     Private room    NY   10464  \n",
       "1     Private room    NY   10464  \n",
       "2  Entire home/apt    NY   10464  \n",
       "3  Entire home/apt    NY   10464  "
      ]
     },
     "execution_count": 80,
     "metadata": {},
     "output_type": "execute_result"
    }
   ],
   "source": [
    "cols_to_delete_na = ['property_type', 'city', 'accommodates', 'bedrooms', 'beds', 'bathrooms', 'zipcode']\n",
    "listings_drop = listings_drop.dropna(axis=0, subset=cols_to_delete_na)\n",
    "listings_drop.head(4)"
   ]
  },
  {
   "cell_type": "code",
   "execution_count": 81,
   "metadata": {},
   "outputs": [],
   "source": [
    "# also drop zipcode and amenities for now\n",
    "listings_drop = listings_drop.drop(columns=['zipcode', 'amenities'])"
   ]
  },
  {
   "cell_type": "markdown",
   "metadata": {},
   "source": [
    "### Now standardise and one-hot encode etc. data"
   ]
  },
  {
   "cell_type": "code",
   "execution_count": 82,
   "metadata": {},
   "outputs": [],
   "source": [
    "cols_to_scale = ['accommodates', 'availability_30', 'bathrooms', 'bedrooms', 'beds']\n",
    "scaler = StandardScaler()\n",
    "listings_drop[cols_to_scale] = scaler.fit_transform(listings_drop[cols_to_scale])"
   ]
  },
  {
   "cell_type": "code",
   "execution_count": 83,
   "metadata": {},
   "outputs": [
    {
     "data": {
      "text/html": [
       "<div>\n",
       "<style scoped>\n",
       "    .dataframe tbody tr th:only-of-type {\n",
       "        vertical-align: middle;\n",
       "    }\n",
       "\n",
       "    .dataframe tbody tr th {\n",
       "        vertical-align: top;\n",
       "    }\n",
       "\n",
       "    .dataframe thead th {\n",
       "        text-align: right;\n",
       "    }\n",
       "</style>\n",
       "<table border=\"1\" class=\"dataframe\">\n",
       "  <thead>\n",
       "    <tr style=\"text-align: right;\">\n",
       "      <th></th>\n",
       "      <th>accommodates</th>\n",
       "      <th>availability_30</th>\n",
       "      <th>bathrooms</th>\n",
       "      <th>bed_type</th>\n",
       "      <th>bedrooms</th>\n",
       "      <th>beds</th>\n",
       "      <th>cancellation_policy</th>\n",
       "      <th>city</th>\n",
       "      <th>instant_bookable</th>\n",
       "      <th>metropolitan</th>\n",
       "      <th>price</th>\n",
       "      <th>property_type</th>\n",
       "      <th>room_type</th>\n",
       "      <th>state</th>\n",
       "    </tr>\n",
       "  </thead>\n",
       "  <tbody>\n",
       "    <tr>\n",
       "      <th>0</th>\n",
       "      <td>-0.518121</td>\n",
       "      <td>1.599729</td>\n",
       "      <td>-0.379388</td>\n",
       "      <td>Real Bed</td>\n",
       "      <td>-0.286649</td>\n",
       "      <td>-0.555898</td>\n",
       "      <td>moderate</td>\n",
       "      <td>sunnysidebronx</td>\n",
       "      <td>f</td>\n",
       "      <td>NYC</td>\n",
       "      <td>99.0</td>\n",
       "      <td>House</td>\n",
       "      <td>Private room</td>\n",
       "      <td>NY</td>\n",
       "    </tr>\n",
       "    <tr>\n",
       "      <th>1</th>\n",
       "      <td>0.480388</td>\n",
       "      <td>2.197547</td>\n",
       "      <td>-0.379388</td>\n",
       "      <td>Real Bed</td>\n",
       "      <td>-0.286649</td>\n",
       "      <td>-0.555898</td>\n",
       "      <td>flexible</td>\n",
       "      <td>sunnysidebronx</td>\n",
       "      <td>t</td>\n",
       "      <td>NYC</td>\n",
       "      <td>200.0</td>\n",
       "      <td>Apartment</td>\n",
       "      <td>Private room</td>\n",
       "      <td>NY</td>\n",
       "    </tr>\n",
       "    <tr>\n",
       "      <th>2</th>\n",
       "      <td>0.480388</td>\n",
       "      <td>2.197547</td>\n",
       "      <td>3.746315</td>\n",
       "      <td>Real Bed</td>\n",
       "      <td>2.286144</td>\n",
       "      <td>1.213739</td>\n",
       "      <td>strict</td>\n",
       "      <td>sunnysidebronx</td>\n",
       "      <td>f</td>\n",
       "      <td>NYC</td>\n",
       "      <td>300.0</td>\n",
       "      <td>House</td>\n",
       "      <td>Entire home/apt</td>\n",
       "      <td>NY</td>\n",
       "    </tr>\n",
       "    <tr>\n",
       "      <th>3</th>\n",
       "      <td>-0.018867</td>\n",
       "      <td>0.005549</td>\n",
       "      <td>-0.379388</td>\n",
       "      <td>Real Bed</td>\n",
       "      <td>-0.286649</td>\n",
       "      <td>-0.555898</td>\n",
       "      <td>strict</td>\n",
       "      <td>long island city</td>\n",
       "      <td>f</td>\n",
       "      <td>NYC</td>\n",
       "      <td>125.0</td>\n",
       "      <td>Apartment</td>\n",
       "      <td>Entire home/apt</td>\n",
       "      <td>NY</td>\n",
       "    </tr>\n",
       "  </tbody>\n",
       "</table>\n",
       "</div>"
      ],
      "text/plain": [
       "   accommodates  availability_30  bathrooms  bed_type  bedrooms      beds  \\\n",
       "0     -0.518121         1.599729  -0.379388  Real Bed -0.286649 -0.555898   \n",
       "1      0.480388         2.197547  -0.379388  Real Bed -0.286649 -0.555898   \n",
       "2      0.480388         2.197547   3.746315  Real Bed  2.286144  1.213739   \n",
       "3     -0.018867         0.005549  -0.379388  Real Bed -0.286649 -0.555898   \n",
       "\n",
       "  cancellation_policy              city instant_bookable metropolitan  price  \\\n",
       "0            moderate    sunnysidebronx                f          NYC   99.0   \n",
       "1            flexible    sunnysidebronx                t          NYC  200.0   \n",
       "2              strict    sunnysidebronx                f          NYC  300.0   \n",
       "3              strict  long island city                f          NYC  125.0   \n",
       "\n",
       "  property_type        room_type state  \n",
       "0         House     Private room    NY  \n",
       "1     Apartment     Private room    NY  \n",
       "2         House  Entire home/apt    NY  \n",
       "3     Apartment  Entire home/apt    NY  "
      ]
     },
     "execution_count": 83,
     "metadata": {},
     "output_type": "execute_result"
    }
   ],
   "source": [
    "listings_drop.head(4)"
   ]
  },
  {
   "cell_type": "code",
   "execution_count": 84,
   "metadata": {},
   "outputs": [],
   "source": [
    "df = listings_drop"
   ]
  },
  {
   "cell_type": "markdown",
   "metadata": {},
   "source": [
    "## helper functions"
   ]
  },
  {
   "cell_type": "code",
   "execution_count": 85,
   "metadata": {},
   "outputs": [],
   "source": [
    "def train_cats(df, cat_vars):\n",
    "    # numercalize/categoricalize\n",
    "    for name, col in df.items(): \n",
    "        if name in cat_vars:\n",
    "            df[name] = col.cat.codes + 1\n",
    "    df = pd.get_dummies(df, dummy_na=True)\n",
    "    return df"
   ]
  },
  {
   "cell_type": "code",
   "execution_count": 86,
   "metadata": {},
   "outputs": [],
   "source": [
    "cat_vars = ['bed_type', 'cancellation_policy', 'city', 'instant_bookable', 'metropolitan', 'property_type', 'room_type', 'state']\n",
    "cont_vars = ['accommodates', 'availability_30', 'bathrooms', 'bedrooms', 'beds']"
   ]
  },
  {
   "cell_type": "code",
   "execution_count": 87,
   "metadata": {},
   "outputs": [],
   "source": [
    "for v in cat_vars: \n",
    "    df[v] = df[v].astype('category').cat.as_ordered()\n",
    "df = train_cats(df, cat_vars)"
   ]
  },
  {
   "cell_type": "code",
   "execution_count": 88,
   "metadata": {},
   "outputs": [],
   "source": [
    "# delete rows of price 0, which are -inf when taken log of price\n",
    "df = df[df.price != 0]"
   ]
  },
  {
   "cell_type": "code",
   "execution_count": 89,
   "metadata": {},
   "outputs": [
    {
     "data": {
      "text/html": [
       "<div>\n",
       "<style scoped>\n",
       "    .dataframe tbody tr th:only-of-type {\n",
       "        vertical-align: middle;\n",
       "    }\n",
       "\n",
       "    .dataframe tbody tr th {\n",
       "        vertical-align: top;\n",
       "    }\n",
       "\n",
       "    .dataframe thead th {\n",
       "        text-align: right;\n",
       "    }\n",
       "</style>\n",
       "<table border=\"1\" class=\"dataframe\">\n",
       "  <thead>\n",
       "    <tr style=\"text-align: right;\">\n",
       "      <th></th>\n",
       "      <th>accommodates</th>\n",
       "      <th>availability_30</th>\n",
       "      <th>bathrooms</th>\n",
       "      <th>bed_type</th>\n",
       "      <th>bedrooms</th>\n",
       "      <th>beds</th>\n",
       "      <th>cancellation_policy</th>\n",
       "      <th>city</th>\n",
       "      <th>instant_bookable</th>\n",
       "      <th>metropolitan</th>\n",
       "      <th>price</th>\n",
       "      <th>property_type</th>\n",
       "      <th>room_type</th>\n",
       "      <th>state</th>\n",
       "    </tr>\n",
       "  </thead>\n",
       "  <tbody>\n",
       "    <tr>\n",
       "      <th>0</th>\n",
       "      <td>-0.518121</td>\n",
       "      <td>1.599729</td>\n",
       "      <td>-0.379388</td>\n",
       "      <td>5</td>\n",
       "      <td>-0.286649</td>\n",
       "      <td>-0.555898</td>\n",
       "      <td>3</td>\n",
       "      <td>119</td>\n",
       "      <td>1</td>\n",
       "      <td>1</td>\n",
       "      <td>99.0</td>\n",
       "      <td>18</td>\n",
       "      <td>2</td>\n",
       "      <td>8</td>\n",
       "    </tr>\n",
       "    <tr>\n",
       "      <th>1</th>\n",
       "      <td>0.480388</td>\n",
       "      <td>2.197547</td>\n",
       "      <td>-0.379388</td>\n",
       "      <td>5</td>\n",
       "      <td>-0.286649</td>\n",
       "      <td>-0.555898</td>\n",
       "      <td>1</td>\n",
       "      <td>119</td>\n",
       "      <td>2</td>\n",
       "      <td>1</td>\n",
       "      <td>200.0</td>\n",
       "      <td>1</td>\n",
       "      <td>2</td>\n",
       "      <td>8</td>\n",
       "    </tr>\n",
       "    <tr>\n",
       "      <th>2</th>\n",
       "      <td>0.480388</td>\n",
       "      <td>2.197547</td>\n",
       "      <td>3.746315</td>\n",
       "      <td>5</td>\n",
       "      <td>2.286144</td>\n",
       "      <td>1.213739</td>\n",
       "      <td>5</td>\n",
       "      <td>119</td>\n",
       "      <td>1</td>\n",
       "      <td>1</td>\n",
       "      <td>300.0</td>\n",
       "      <td>18</td>\n",
       "      <td>1</td>\n",
       "      <td>8</td>\n",
       "    </tr>\n",
       "    <tr>\n",
       "      <th>3</th>\n",
       "      <td>-0.018867</td>\n",
       "      <td>0.005549</td>\n",
       "      <td>-0.379388</td>\n",
       "      <td>5</td>\n",
       "      <td>-0.286649</td>\n",
       "      <td>-0.555898</td>\n",
       "      <td>5</td>\n",
       "      <td>75</td>\n",
       "      <td>1</td>\n",
       "      <td>1</td>\n",
       "      <td>125.0</td>\n",
       "      <td>1</td>\n",
       "      <td>1</td>\n",
       "      <td>8</td>\n",
       "    </tr>\n",
       "    <tr>\n",
       "      <th>4</th>\n",
       "      <td>0.480388</td>\n",
       "      <td>0.902276</td>\n",
       "      <td>-0.379388</td>\n",
       "      <td>5</td>\n",
       "      <td>-0.286649</td>\n",
       "      <td>-0.555898</td>\n",
       "      <td>3</td>\n",
       "      <td>119</td>\n",
       "      <td>2</td>\n",
       "      <td>1</td>\n",
       "      <td>69.0</td>\n",
       "      <td>18</td>\n",
       "      <td>2</td>\n",
       "      <td>8</td>\n",
       "    </tr>\n",
       "    <tr>\n",
       "      <th>...</th>\n",
       "      <td>...</td>\n",
       "      <td>...</td>\n",
       "      <td>...</td>\n",
       "      <td>...</td>\n",
       "      <td>...</td>\n",
       "      <td>...</td>\n",
       "      <td>...</td>\n",
       "      <td>...</td>\n",
       "      <td>...</td>\n",
       "      <td>...</td>\n",
       "      <td>...</td>\n",
       "      <td>...</td>\n",
       "      <td>...</td>\n",
       "      <td>...</td>\n",
       "    </tr>\n",
       "    <tr>\n",
       "      <th>59818</th>\n",
       "      <td>-0.518121</td>\n",
       "      <td>1.998274</td>\n",
       "      <td>-0.379388</td>\n",
       "      <td>5</td>\n",
       "      <td>-0.286649</td>\n",
       "      <td>-0.555898</td>\n",
       "      <td>1</td>\n",
       "      <td>124</td>\n",
       "      <td>2</td>\n",
       "      <td>4</td>\n",
       "      <td>37.0</td>\n",
       "      <td>18</td>\n",
       "      <td>2</td>\n",
       "      <td>2</td>\n",
       "    </tr>\n",
       "    <tr>\n",
       "      <th>59819</th>\n",
       "      <td>-0.518121</td>\n",
       "      <td>-0.791541</td>\n",
       "      <td>-0.379388</td>\n",
       "      <td>5</td>\n",
       "      <td>-0.286649</td>\n",
       "      <td>-0.555898</td>\n",
       "      <td>1</td>\n",
       "      <td>107</td>\n",
       "      <td>2</td>\n",
       "      <td>4</td>\n",
       "      <td>42.0</td>\n",
       "      <td>1</td>\n",
       "      <td>2</td>\n",
       "      <td>5</td>\n",
       "    </tr>\n",
       "    <tr>\n",
       "      <th>59820</th>\n",
       "      <td>0.979642</td>\n",
       "      <td>1.201184</td>\n",
       "      <td>-0.379388</td>\n",
       "      <td>5</td>\n",
       "      <td>-0.286649</td>\n",
       "      <td>0.328921</td>\n",
       "      <td>1</td>\n",
       "      <td>11</td>\n",
       "      <td>1</td>\n",
       "      <td>4</td>\n",
       "      <td>155.0</td>\n",
       "      <td>1</td>\n",
       "      <td>1</td>\n",
       "      <td>5</td>\n",
       "    </tr>\n",
       "    <tr>\n",
       "      <th>59821</th>\n",
       "      <td>1.478897</td>\n",
       "      <td>0.503731</td>\n",
       "      <td>-0.379388</td>\n",
       "      <td>5</td>\n",
       "      <td>-0.286649</td>\n",
       "      <td>1.213739</td>\n",
       "      <td>5</td>\n",
       "      <td>121</td>\n",
       "      <td>2</td>\n",
       "      <td>4</td>\n",
       "      <td>75.0</td>\n",
       "      <td>18</td>\n",
       "      <td>2</td>\n",
       "      <td>5</td>\n",
       "    </tr>\n",
       "    <tr>\n",
       "      <th>59822</th>\n",
       "      <td>-0.518121</td>\n",
       "      <td>0.404094</td>\n",
       "      <td>-0.379388</td>\n",
       "      <td>5</td>\n",
       "      <td>-0.286649</td>\n",
       "      <td>-0.555898</td>\n",
       "      <td>3</td>\n",
       "      <td>107</td>\n",
       "      <td>2</td>\n",
       "      <td>4</td>\n",
       "      <td>115.0</td>\n",
       "      <td>11</td>\n",
       "      <td>1</td>\n",
       "      <td>5</td>\n",
       "    </tr>\n",
       "  </tbody>\n",
       "</table>\n",
       "<p>58582 rows × 14 columns</p>\n",
       "</div>"
      ],
      "text/plain": [
       "       accommodates  availability_30  bathrooms  bed_type  bedrooms      beds  \\\n",
       "0         -0.518121         1.599729  -0.379388         5 -0.286649 -0.555898   \n",
       "1          0.480388         2.197547  -0.379388         5 -0.286649 -0.555898   \n",
       "2          0.480388         2.197547   3.746315         5  2.286144  1.213739   \n",
       "3         -0.018867         0.005549  -0.379388         5 -0.286649 -0.555898   \n",
       "4          0.480388         0.902276  -0.379388         5 -0.286649 -0.555898   \n",
       "...             ...              ...        ...       ...       ...       ...   \n",
       "59818     -0.518121         1.998274  -0.379388         5 -0.286649 -0.555898   \n",
       "59819     -0.518121        -0.791541  -0.379388         5 -0.286649 -0.555898   \n",
       "59820      0.979642         1.201184  -0.379388         5 -0.286649  0.328921   \n",
       "59821      1.478897         0.503731  -0.379388         5 -0.286649  1.213739   \n",
       "59822     -0.518121         0.404094  -0.379388         5 -0.286649 -0.555898   \n",
       "\n",
       "       cancellation_policy  city  instant_bookable  metropolitan  price  \\\n",
       "0                        3   119                 1             1   99.0   \n",
       "1                        1   119                 2             1  200.0   \n",
       "2                        5   119                 1             1  300.0   \n",
       "3                        5    75                 1             1  125.0   \n",
       "4                        3   119                 2             1   69.0   \n",
       "...                    ...   ...               ...           ...    ...   \n",
       "59818                    1   124                 2             4   37.0   \n",
       "59819                    1   107                 2             4   42.0   \n",
       "59820                    1    11                 1             4  155.0   \n",
       "59821                    5   121                 2             4   75.0   \n",
       "59822                    3   107                 2             4  115.0   \n",
       "\n",
       "       property_type  room_type  state  \n",
       "0                 18          2      8  \n",
       "1                  1          2      8  \n",
       "2                 18          1      8  \n",
       "3                  1          1      8  \n",
       "4                 18          2      8  \n",
       "...              ...        ...    ...  \n",
       "59818             18          2      2  \n",
       "59819              1          2      5  \n",
       "59820              1          1      5  \n",
       "59821             18          2      5  \n",
       "59822             11          1      5  \n",
       "\n",
       "[58582 rows x 14 columns]"
      ]
     },
     "execution_count": 89,
     "metadata": {},
     "output_type": "execute_result"
    }
   ],
   "source": [
    "df"
   ]
  },
  {
   "cell_type": "code",
   "execution_count": 107,
   "metadata": {},
   "outputs": [
    {
     "data": {
      "text/plain": [
       "Index(['accommodates', 'availability_30', 'bathrooms', 'bed_type', 'bedrooms',\n",
       "       'beds', 'cancellation_policy', 'city', 'instant_bookable',\n",
       "       'metropolitan', 'price', 'property_type', 'room_type', 'state'],\n",
       "      dtype='object')"
      ]
     },
     "execution_count": 107,
     "metadata": {},
     "output_type": "execute_result"
    }
   ],
   "source": [
    "df.columns"
   ]
  },
  {
   "cell_type": "code",
   "execution_count": 108,
   "metadata": {},
   "outputs": [
    {
     "data": {
      "text/plain": [
       "14"
      ]
     },
     "execution_count": 108,
     "metadata": {},
     "output_type": "execute_result"
    }
   ],
   "source": [
    "len(df.columns)"
   ]
  },
  {
   "cell_type": "code",
   "execution_count": 90,
   "metadata": {},
   "outputs": [],
   "source": [
    "# calculate embedding sizes, so we can treat categorical features\n",
    "for v in cat_vars: \n",
    "    df[v] = df[v].astype('category').cat.as_ordered()\n",
    "cat_sz = [(c, len(df[c].cat.categories)+1) for c in cat_vars]\n",
    "emb_szs = [(c, min(50, (c+1)//2)) for _,c in cat_sz]"
   ]
  },
  {
   "cell_type": "code",
   "execution_count": 91,
   "metadata": {},
   "outputs": [
    {
     "data": {
      "text/plain": [
       "[('bed_type', 6),\n",
       " ('cancellation_policy', 8),\n",
       " ('city', 133),\n",
       " ('instant_bookable', 3),\n",
       " ('metropolitan', 6),\n",
       " ('property_type', 33),\n",
       " ('room_type', 4),\n",
       " ('state', 10)]"
      ]
     },
     "execution_count": 91,
     "metadata": {},
     "output_type": "execute_result"
    }
   ],
   "source": [
    "cat_sz"
   ]
  },
  {
   "cell_type": "code",
   "execution_count": 92,
   "metadata": {},
   "outputs": [
    {
     "data": {
      "text/plain": [
       "[(6, 3), (8, 4), (133, 50), (3, 2), (6, 3), (33, 17), (4, 2), (10, 5)]"
      ]
     },
     "execution_count": 92,
     "metadata": {},
     "output_type": "execute_result"
    }
   ],
   "source": [
    "emb_szs"
   ]
  },
  {
   "cell_type": "markdown",
   "metadata": {},
   "source": [
    "## split dataset"
   ]
  },
  {
   "cell_type": "code",
   "execution_count": 93,
   "metadata": {},
   "outputs": [],
   "source": [
    "y = np.log(df['price'])\n",
    "X = df.drop(columns=['price'])"
   ]
  },
  {
   "cell_type": "code",
   "execution_count": 94,
   "metadata": {},
   "outputs": [],
   "source": [
    "X_train, X_test, y_train, y_test = train_test_split(X, y, test_size=0.85, random_state=42)\n",
    "X_train, X_val, y_train, y_val = train_test_split(X_train, y_train, test_size=0.85, random_state=42)"
   ]
  },
  {
   "cell_type": "code",
   "execution_count": 95,
   "metadata": {},
   "outputs": [],
   "source": [
    "class ColumnarDataset(Dataset):\n",
    "    \"\"\"Dataset class for column dataset.\n",
    "    Args:\n",
    "       cats (list of str): List of the name of columns contain\n",
    "                           categorical variables.\n",
    "       conts (list of str): List of the name of columns which \n",
    "                           contain continuous variables.\n",
    "       y (Tensor, optional): Target variables.\n",
    "       is_reg (bool): If the task is regression, set ``True``, \n",
    "                      otherwise (classification) ``False``.\n",
    "       is_multi (bool): If the task is multi-label classification, \n",
    "                        set ``True``.\n",
    "    \"\"\"\n",
    "    def __init__(self, df, cat_flds, y, is_reg, is_multi):\n",
    "        df_cat = df[cat_flds]\n",
    "        df_cont = df.drop(cat_flds, axis=1)\n",
    "        \n",
    "        cats = [c.values for n,c in df_cat.items()]\n",
    "        conts = [c.values for n,c in df_cont.items()]\n",
    "        \n",
    "        n = len(cats[0]) if cats else len(conts[0])\n",
    "        self.cats = np.stack(cats, 1).astype(np.int64) if cats else np.zeros((n,1))\n",
    "        self.conts = np.stack(conts, 1).astype(np.float32) if conts else np.zeros((n,1))\n",
    "        self.y = np.zeros((n,1)) if y is None else y\n",
    "        if is_reg: \n",
    "            self.y =  self.y[:,None]\n",
    "        self.is_reg = is_reg\n",
    "        self.is_multi = is_multi\n",
    "    def __len__(self): return len(self.y)\n",
    "    def __getitem__(self, idx):\n",
    "        return [self.cats[idx], self.conts[idx], self.y[idx]]"
   ]
  },
  {
   "cell_type": "code",
   "execution_count": 96,
   "metadata": {},
   "outputs": [],
   "source": [
    "train_ds = ColumnarDataset(X_train, cat_vars, y_train, is_reg=True, is_multi=False)\n",
    "val_ds = ColumnarDataset(X_val, cat_vars, y_val, is_reg=True, is_multi=False)\n",
    "test_ds = ColumnarDataset(X_test, cat_vars, y_test, is_reg=True, is_multi=False)\n",
    "bs = 64\n",
    "train_dl = DataLoader(train_ds, bs, shuffle=True)\n",
    "val_dl = DataLoader(val_ds, bs, shuffle=False)\n",
    "test_dl = DataLoader(test_ds, len(X_test), shuffle=False)"
   ]
  },
  {
   "cell_type": "code",
   "execution_count": 97,
   "metadata": {},
   "outputs": [],
   "source": [
    "class MixedInputModel(nn.Module):\n",
    "    \"\"\"Model able to handle inputs consisting of both categorical and continuous variables.\n",
    "    Args:\n",
    "       emb_szs (list of int): List of embedding size\n",
    "       n_cont (int): Number of continuous variables in inputs\n",
    "       emb_drop (float): Dropout applied to the output of embedding\n",
    "       out_sz (int): Size of model's output.\n",
    "       szs (list of int): List of hidden variables sizes\n",
    "       drops (list of float): List of dropout applied to hidden \n",
    "                              variables\n",
    "       y_range (list of float): Min and max of `y`. \n",
    "                                y_range[0] = min, y_range[1] = max.\n",
    "       use_bn (bool): If use BatchNorm, set ``True``\n",
    "       is_reg (bool): If regression, set ``True``\n",
    "       is_multi (bool): If multi-label classification, set ``True``\n",
    "    \"\"\"\n",
    "    def __init__(self, emb_szs, n_cont, emb_drop, out_sz, szs, \n",
    "                 drops, y_range=None, use_bn=False, is_reg=True, \n",
    "                 is_multi=False):\n",
    "        super().__init__()\n",
    "        for i,(c,s) in enumerate(emb_szs): assert c > 1, f\"cardinality must be >=2, got emb_szs[{i}]: ({c},{s})\"\n",
    "        if is_reg==False and is_multi==False: assert out_sz >= 2, \"For classification with out_sz=1, use is_multi=True\"\n",
    "        self.embs = nn.ModuleList([nn.Embedding(c, s) \n",
    "                                      for c,s in emb_szs])\n",
    "        for emb in self.embs: emb_init(emb)\n",
    "        n_emb = sum(e.embedding_dim for e in self.embs)\n",
    "        self.n_emb, self.n_cont=n_emb, n_cont\n",
    "        \n",
    "        szs = [n_emb+n_cont] + szs\n",
    "        self.lins = nn.ModuleList([\n",
    "            nn.Linear(szs[i], szs[i+1]) for i in range(len(szs)-1)])\n",
    "        self.bns = nn.ModuleList([\n",
    "            nn.BatchNorm1d(sz) for sz in szs[1:]])\n",
    "        for o in self.lins: kaiming_normal_(o.weight.data)\n",
    "        self.outp = nn.Linear(szs[-1], out_sz)\n",
    "        kaiming_normal_(self.outp.weight.data)\n",
    "        self.emb_drop = nn.Dropout(emb_drop)\n",
    "        self.drops = nn.ModuleList([nn.Dropout(drop) \n",
    "                                        for drop in drops])\n",
    "        self.bn = nn.BatchNorm1d(n_cont)\n",
    "        self.use_bn,self.y_range = use_bn,y_range\n",
    "        self.is_reg = is_reg\n",
    "        self.is_multi = is_multi\n",
    "    def forward(self, x_cat, x_cont):\n",
    "        if self.n_emb != 0:\n",
    "            x = [e(x_cat[:,i]) for i,e in enumerate(self.embs)]\n",
    "            x = torch.cat(x, 1)\n",
    "            x = self.emb_drop(x)\n",
    "        if self.n_cont != 0:\n",
    "            x2 = self.bn(x_cont)\n",
    "            x = torch.cat([x, x2], 1) if self.n_emb != 0 else x2\n",
    "        for l,d,b in zip(self.lins, self.drops, self.bns):\n",
    "            x = F.relu(l(x))\n",
    "            if self.use_bn: x = b(x)\n",
    "            x = d(x)\n",
    "        x = self.outp(x)\n",
    "        if not self.is_reg:\n",
    "            if self.is_multi:\n",
    "                x = torch.sigmoid(x)\n",
    "            else:\n",
    "                x = F.log_softmax(x, dim=1)\n",
    "        elif self.y_range:\n",
    "            x = torch.sigmoid(x)\n",
    "            x = x*(self.y_range[1] - self.y_range[0])\n",
    "            x = x+self.y_range[0]\n",
    "        return x\n",
    "def emb_init(x):\n",
    "    x = x.weight.data\n",
    "    sc = 2/(x.size(1)+1)\n",
    "    x.uniform_(-sc,sc)"
   ]
  },
  {
   "cell_type": "code",
   "execution_count": 98,
   "metadata": {},
   "outputs": [],
   "source": [
    "model = MixedInputModel(emb_szs, \n",
    "                        n_cont=len(X_train.columns)-len(cat_vars), \n",
    "                        emb_drop = 0.04, out_sz = 1, \n",
    "                        szs = [1000,500], drops = [0.001,0.01], \n",
    "                        y_range=(0,np.max(y_train)), use_bn=True, \n",
    "                        is_reg=True, is_multi=False)"
   ]
  },
  {
   "cell_type": "code",
   "execution_count": 99,
   "metadata": {},
   "outputs": [],
   "source": [
    "def train_model(model, train_dl, val_dl, n_epochs=1, lr=5e-2):\n",
    "        \"Run training loops.\"\n",
    "        epochs = n_epochs\n",
    "        opt = optim.SGD(model.parameters(), lr=lr)\n",
    "        loss_func = nn.MSELoss()\n",
    "        try:\n",
    "            for epoch in range(epochs):\n",
    "                model.train()\n",
    "                for xb1, xb2, yb in train_dl:\n",
    "                    preds = model(xb1, xb2)\n",
    "                    loss = loss_func(preds, yb.float())\n",
    "                    \n",
    "                    loss.backward()\n",
    "                    opt.step()\n",
    "                    opt.zero_grad()\n",
    "                    \n",
    "                model.eval()\n",
    "                with torch.no_grad():\n",
    "                    loss_val = sum(loss_func(model(xv1, xv2), \n",
    "                                             yv.float()) \n",
    "                                   for xv1, xv2, yv in val_dl)\n",
    "                print(epoch, loss_val / len(val_dl))\n",
    "            return model\n",
    "        except Exception as e:\n",
    "            exception = e\n",
    "            raise"
   ]
  },
  {
   "cell_type": "code",
   "execution_count": 100,
   "metadata": {
    "scrolled": true
   },
   "outputs": [
    {
     "name": "stdout",
     "output_type": "stream",
     "text": [
      "0 tensor(9.3816)\n",
      "1 tensor(9.2231)\n",
      "2 tensor(15.2580)\n",
      "3 tensor(11.7508)\n",
      "4 tensor(14.0486)\n",
      "5 tensor(4.2310)\n",
      "6 tensor(6.6747)\n",
      "7 tensor(4.6947)\n",
      "8 tensor(7.3189)\n",
      "9 tensor(2.2332)\n",
      "10 tensor(4.7772)\n",
      "11 tensor(3.6250)\n",
      "12 tensor(8.3473)\n",
      "13 tensor(1.7623)\n",
      "14 tensor(4.7690)\n",
      "15 tensor(2.9450)\n",
      "16 tensor(2.8185)\n",
      "17 tensor(2.7789)\n",
      "18 tensor(2.6346)\n",
      "19 tensor(2.6063)\n",
      "20 tensor(1.8967)\n",
      "21 tensor(1.7776)\n",
      "22 tensor(2.7928)\n",
      "23 tensor(2.6938)\n",
      "24 tensor(1.9605)\n",
      "25 tensor(5.7857)\n",
      "26 tensor(1.5134)\n",
      "27 tensor(1.3399)\n",
      "28 tensor(1.9746)\n",
      "29 tensor(1.5639)\n",
      "30 tensor(2.2817)\n",
      "31 tensor(0.5696)\n",
      "32 tensor(0.7177)\n",
      "33 tensor(7.2296)\n",
      "34 tensor(3.1355)\n",
      "35 tensor(2.8296)\n",
      "36 tensor(1.0139)\n",
      "37 tensor(1.0847)\n",
      "38 tensor(0.5667)\n",
      "39 tensor(0.6298)\n",
      "40 tensor(1.0882)\n",
      "41 tensor(0.9935)\n",
      "42 tensor(0.6506)\n",
      "43 tensor(1.3666)\n",
      "44 tensor(0.5947)\n",
      "45 tensor(0.8081)\n",
      "46 tensor(0.4580)\n",
      "47 tensor(0.6664)\n",
      "48 tensor(0.6245)\n",
      "49 tensor(0.4124)\n",
      "50 tensor(0.3543)\n",
      "51 tensor(0.5062)\n",
      "52 tensor(0.5821)\n",
      "53 tensor(0.3355)\n",
      "54 tensor(0.5332)\n",
      "55 tensor(0.4395)\n",
      "56 tensor(0.8356)\n",
      "57 tensor(0.8306)\n",
      "58 tensor(5.9878)\n",
      "59 tensor(0.3978)\n",
      "60 tensor(0.9661)\n",
      "61 tensor(5.5380)\n",
      "62 tensor(0.3876)\n",
      "63 tensor(0.3964)\n",
      "64 tensor(0.4134)\n",
      "65 tensor(0.7735)\n",
      "66 tensor(1.5892)\n",
      "67 tensor(0.3869)\n",
      "68 tensor(1.2315)\n",
      "69 tensor(1.1826)\n",
      "70 tensor(14.4361)\n",
      "71 tensor(0.5674)\n",
      "72 tensor(0.4416)\n",
      "73 tensor(0.4071)\n",
      "74 tensor(0.9944)\n",
      "75 tensor(1.4018)\n",
      "76 tensor(0.5577)\n",
      "77 tensor(0.5370)\n",
      "78 tensor(1.9423)\n",
      "79 tensor(0.5896)\n",
      "80 tensor(0.5439)\n",
      "81 tensor(2.8645)\n",
      "82 tensor(0.5418)\n",
      "83 tensor(0.4836)\n",
      "84 tensor(0.7030)\n",
      "85 tensor(0.4715)\n",
      "86 tensor(0.4219)\n",
      "87 tensor(0.9161)\n",
      "88 tensor(0.5359)\n",
      "89 tensor(0.4067)\n",
      "90 tensor(1.7394)\n",
      "91 tensor(0.7245)\n",
      "92 tensor(1.0603)\n",
      "93 tensor(0.4803)\n",
      "94 tensor(0.6130)\n",
      "95 tensor(0.3861)\n",
      "96 tensor(1.1617)\n",
      "97 tensor(0.4539)\n",
      "98 tensor(0.5421)\n",
      "99 tensor(0.4077)\n"
     ]
    }
   ],
   "source": [
    "model = train_model(model, train_dl, val_dl, n_epochs=100, lr=5e-2)"
   ]
  },
  {
   "cell_type": "code",
   "execution_count": 101,
   "metadata": {},
   "outputs": [],
   "source": [
    "def predict_test(model, test_dl):\n",
    "    \"Returns predictions over test_df.\"\n",
    "    model.eval()\n",
    "    preds = [model(xv1, xv2) for xv1, xv2, _ in test_dl][0]\n",
    "    targs = [yv for _, _, yv in test_dl][0]\n",
    "    return preds.data.detach().numpy(), targs.data.detach().numpy()"
   ]
  },
  {
   "cell_type": "code",
   "execution_count": 102,
   "metadata": {},
   "outputs": [],
   "source": [
    "preds, targs = predict_test(model, test_dl)"
   ]
  },
  {
   "cell_type": "code",
   "execution_count": 103,
   "metadata": {},
   "outputs": [
    {
     "data": {
      "text/plain": [
       "<matplotlib.legend.Legend at 0x1a250a4a50>"
      ]
     },
     "execution_count": 103,
     "metadata": {},
     "output_type": "execute_result"
    },
    {
     "data": {
      "image/png": "[encoded data removed]",
      "text/plain": [
       "<Figure size 432x288 with 1 Axes>"
      ]
     },
     "metadata": {
      "needs_background": "light"
     },
     "output_type": "display_data"
    }
   ],
   "source": [
    "plt.plot(range(len(targs[450:500])), preds[450:500], label='preds')\n",
    "plt.plot(range(len(targs[450:500])), targs[450:500], label='targs')\n",
    "plt.legend()"
   ]
  },
  {
   "cell_type": "code",
   "execution_count": 104,
   "metadata": {},
   "outputs": [],
   "source": [
    "def rmse(pred, targ):\n",
    "    return np.sqrt(np.mean((pred-targ)**2))"
   ]
  },
  {
   "cell_type": "code",
   "execution_count": 105,
   "metadata": {},
   "outputs": [
    {
     "data": {
      "text/plain": [
       "0.632222665689681"
      ]
     },
     "execution_count": 105,
     "metadata": {},
     "output_type": "execute_result"
    }
   ],
   "source": [
    "rmse(preds, targs)"
   ]
  },
  {
   "cell_type": "code",
   "execution_count": 106,
   "metadata": {},
   "outputs": [
    {
     "data": {
      "text/plain": [
       "159.1989177563074"
      ]
     },
     "execution_count": 106,
     "metadata": {},
     "output_type": "execute_result"
    }
   ],
   "source": [
    "np.mean(df['price'])"
   ]
  }
 ],
 "metadata": {
  "kernelspec": {
   "display_name": "Python 3",
   "language": "python",
   "name": "python3"
  },
  "language_info": {
   "codemirror_mode": {
    "name": "ipython",
    "version": 3
   },
   "file_extension": ".py",
   "mimetype": "text/x-python",
   "name": "python",
   "nbconvert_exporter": "python",
   "pygments_lexer": "ipython3",
   "version": "3.7.4"
  }
 },
 "nbformat": 4,
 "nbformat_minor": 4
}
